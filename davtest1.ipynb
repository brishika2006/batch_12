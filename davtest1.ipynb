{
  "nbformat": 4,
  "nbformat_minor": 0,
  "metadata": {
    "colab": {
      "provenance": [],
      "authorship_tag": "ABX9TyNXc3dmxsEkU2Gvh9op7nek",
      "include_colab_link": true
    },
    "kernelspec": {
      "name": "python3",
      "display_name": "Python 3"
    },
    "language_info": {
      "name": "python"
    }
  },
  "cells": [
    {
      "cell_type": "markdown",
      "metadata": {
        "id": "view-in-github",
        "colab_type": "text"
      },
      "source": [
        "<a href=\"https://colab.research.google.com/github/brishika2006/batch_12/blob/main/davtest1.ipynb\" target=\"_parent\"><img src=\"https://colab.research.google.com/assets/colab-badge.svg\" alt=\"Open In Colab\"/></a>"
      ]
    },
    {
      "cell_type": "code",
      "execution_count": 5,
      "metadata": {
        "colab": {
          "base_uri": "https://localhost:8080/"
        },
        "id": "9aGbdv5DT8tq",
        "outputId": "2a0a517e-2a75-430e-ce7b-ef2cf679a397"
      },
      "outputs": [
        {
          "output_type": "stream",
          "name": "stdout",
          "text": [
            "[(2332, 'rishika'), (2001, 'ganesh'), (2002, 'shiv'), (2003, 'krishna')]\n",
            "[(2332, 95), (2001, 96), (2002, 97), (2003, 98)]\n"
          ]
        }
      ],
      "source": [
        "stdid=[2332,2001,2002,2003]\n",
        "stdname=['rishika','ganesh','shiv','krishna']\n",
        "stdmarks=[95,96,97,98]\n",
        "\n",
        "merge1 = []\n",
        "for i in range(len(stdid)):\n",
        "    merge1.append((stdid[i], stdname[i]))\n",
        "print(merge1)\n",
        "\n",
        "merge2 = []\n",
        "for i in range(len(stdid)):\n",
        "    merge2.append((stdid[i], stdmarks[i]))\n",
        "print(merge2)"
      ]
    },
    {
      "cell_type": "code",
      "source": [
        "# Concatenate all lists into one big list (not structured)\n",
        "combined_list = stdid + stdname + stdmarks\n",
        "print(\"Concatenated List:\", combined_list)\n"
      ],
      "metadata": {
        "colab": {
          "base_uri": "https://localhost:8080/"
        },
        "id": "HVP6OozaW5RP",
        "outputId": "e4980c46-8439-46c7-95b4-7b7f80aa6e14"
      },
      "execution_count": 9,
      "outputs": [
        {
          "output_type": "stream",
          "name": "stdout",
          "text": [
            "Concatenated List: [2332, 2001, 2002, 2003, 'rishika', 'ganesh', 'shiv', 'krishna', 95, 96, 97, 98]\n"
          ]
        }
      ]
    },
    {
      "cell_type": "code",
      "source": [
        "import matplotlib.pyplot as plt\n",
        "\n",
        "stdid = [1, 2, 3, 4]\n",
        "stdmarks = [90, 96, 97, 90]\n",
        "\n",
        "plt.bar(stdid, stdmarks, color=\"blue\", width=0.5)\n",
        "plt.xlabel('Student ID')\n",
        "plt.ylabel('Marks')\n",
        "plt.title('Student Marks')\n",
        "plt.show()"
      ],
      "metadata": {
        "colab": {
          "base_uri": "https://localhost:8080/",
          "height": 472
        },
        "id": "tJ2oPxM6Yf66",
        "outputId": "99188e52-e0ad-4af0-d041-29c4fdf147ec"
      },
      "execution_count": 17,
      "outputs": [
        {
          "output_type": "display_data",
          "data": {
            "text/plain": [
              "<Figure size 640x480 with 1 Axes>"
            ],
            "image/png": "[encoded data removed]"
          },
          "metadata": {}
        }
      ]
    }
  ]
}